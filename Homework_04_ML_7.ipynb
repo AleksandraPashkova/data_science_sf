{
  "cells": [
    {
      "cell_type": "markdown",
      "metadata": {
        "id": "view-in-github",
        "colab_type": "text"
      },
      "source": [
        "<a href=\"https://colab.research.google.com/github/AleksandraPashkova/data_science_sf/blob/master/Homework_04_ML_7.ipynb\" target=\"_parent\"><img src=\"https://colab.research.google.com/assets/colab-badge.svg\" alt=\"Open In Colab\"/></a>"
      ]
    },
    {
      "cell_type": "markdown",
      "source": [
        "# ML-7. Прогнозирование биологического ответа.\n",
        "\n",
        "\n",
        "Необходимо предсказать биологический ответ молекул по их химической информации.\n",
        "\n",
        "*Первый столбец (Activity) содержит экспериментальные данные, описывающие фактический биологический ответ: [0, 1]; остальные столбцы D1-D1776 представляют собой молекулярные дескрипторы — это вычисляемые свойства, которые могут фиксировать некоторые характеристики молекулы, например размер, форму или состав элементов.*\n",
        "\n",
        "Предварительная обработка не требуется, данные закодированы и нормализованы.\n",
        "\n",
        "В качестве метрики использовать **F1-score.**\n",
        "\n",
        "Необходимо обучить две модели: **логистическую регрессию и случайный лес**. Далее нужно сделать подбор гиперпараметров с помощью базовых и продвинутых методов оптимизации. Важно использовать все четыре метода (**GridSeachCV, RandomizedSearchCV, Hyperopt, Optuna)**, максимальное количество итераций не должно превышать 50.\n"
      ],
      "metadata": {
        "id": "hdhHVvglgHRL"
      }
    },
    {
      "cell_type": "code",
      "execution_count": 37,
      "metadata": {
        "colab": {
          "base_uri": "https://localhost:8080/"
        },
        "id": "Z4EWdwhF-UIA",
        "outputId": "4f9b431d-2654-4d66-9ec7-509df21a1f92"
      },
      "outputs": [
        {
          "output_type": "stream",
          "name": "stdout",
          "text": [
            "Drive already mounted at /content/drive; to attempt to forcibly remount, call drive.mount(\"/content/drive\", force_remount=True).\n"
          ]
        }
      ],
      "source": [
        "from google.colab import drive\n",
        "drive.mount('/content/drive')"
      ]
    },
    {
      "cell_type": "markdown",
      "metadata": {
        "id": "u1n22T6xuq1t"
      },
      "source": [
        "# 1. Загрузка и предобработка данных"
      ]
    },
    {
      "cell_type": "code",
      "source": [
        "import pandas as pd\n",
        "import numpy as np\n",
        "import seaborn as sns\n",
        "from sklearn.model_selection import train_test_split\n",
        "from sklearn.linear_model import LogisticRegression\n",
        "from sklearn.ensemble import RandomForestClassifier\n",
        "from sklearn.metrics import f1_score\n",
        "from sklearn.model_selection import GridSearchCV\n",
        "from sklearn.model_selection import RandomizedSearchCV\n",
        "from sklearn.model_selection import cross_val_score\n",
        "from hyperopt import hp, fmin, tpe, Trials\n",
        "import optuna\n",
        "from scipy.stats import uniform"
      ],
      "metadata": {
        "id": "uwWRTQVKYmlU"
      },
      "execution_count": 38,
      "outputs": []
    },
    {
      "cell_type": "code",
      "execution_count": 39,
      "metadata": {
        "colab": {
          "base_uri": "https://localhost:8080/",
          "height": 236
        },
        "id": "yyy2xdSXr2rA",
        "outputId": "e1eebc7e-c269-4c25-c522-df760c2cb7ec"
      },
      "outputs": [
        {
          "output_type": "execute_result",
          "data": {
            "text/plain": [
              "   Activity        D1        D2    D3   D4        D5        D6        D7  \\\n",
              "0         1  0.000000  0.497009  0.10  0.0  0.132956  0.678031  0.273166   \n",
              "1         1  0.366667  0.606291  0.05  0.0  0.111209  0.803455  0.106105   \n",
              "2         1  0.033300  0.480124  0.00  0.0  0.209791  0.610350  0.356453   \n",
              "3         1  0.000000  0.538825  0.00  0.5  0.196344  0.724230  0.235606   \n",
              "4         0  0.100000  0.517794  0.00  0.0  0.494734  0.781422  0.154361   \n",
              "\n",
              "         D8        D9  ...  D1767  D1768  D1769  D1770  D1771  D1772  D1773  \\\n",
              "0  0.585445  0.743663  ...      0      0      0      0      0      0      0   \n",
              "1  0.411754  0.836582  ...      1      1      1      1      0      1      0   \n",
              "2  0.517720  0.679051  ...      0      0      0      0      0      0      0   \n",
              "3  0.288764  0.805110  ...      0      0      0      0      0      0      0   \n",
              "4  0.303809  0.812646  ...      0      0      0      0      0      0      0   \n",
              "\n",
              "   D1774  D1775  D1776  \n",
              "0      0      0      0  \n",
              "1      0      1      0  \n",
              "2      0      0      0  \n",
              "3      0      0      0  \n",
              "4      0      0      0  \n",
              "\n",
              "[5 rows x 1777 columns]"
            ],
            "text/html": [
              "\n",
              "  <div id=\"df-e69b2d40-dda7-4608-b4da-2d91088d419c\">\n",
              "    <div class=\"colab-df-container\">\n",
              "      <div>\n",
              "<style scoped>\n",
              "    .dataframe tbody tr th:only-of-type {\n",
              "        vertical-align: middle;\n",
              "    }\n",
              "\n",
              "    .dataframe tbody tr th {\n",
              "        vertical-align: top;\n",
              "    }\n",
              "\n",
              "    .dataframe thead th {\n",
              "        text-align: right;\n",
              "    }\n",
              "</style>\n",
              "<table border=\"1\" class=\"dataframe\">\n",
              "  <thead>\n",
              "    <tr style=\"text-align: right;\">\n",
              "      <th></th>\n",
              "      <th>Activity</th>\n",
              "      <th>D1</th>\n",
              "      <th>D2</th>\n",
              "      <th>D3</th>\n",
              "      <th>D4</th>\n",
              "      <th>D5</th>\n",
              "      <th>D6</th>\n",
              "      <th>D7</th>\n",
              "      <th>D8</th>\n",
              "      <th>D9</th>\n",
              "      <th>...</th>\n",
              "      <th>D1767</th>\n",
              "      <th>D1768</th>\n",
              "      <th>D1769</th>\n",
              "      <th>D1770</th>\n",
              "      <th>D1771</th>\n",
              "      <th>D1772</th>\n",
              "      <th>D1773</th>\n",
              "      <th>D1774</th>\n",
              "      <th>D1775</th>\n",
              "      <th>D1776</th>\n",
              "    </tr>\n",
              "  </thead>\n",
              "  <tbody>\n",
              "    <tr>\n",
              "      <th>0</th>\n",
              "      <td>1</td>\n",
              "      <td>0.000000</td>\n",
              "      <td>0.497009</td>\n",
              "      <td>0.10</td>\n",
              "      <td>0.0</td>\n",
              "      <td>0.132956</td>\n",
              "      <td>0.678031</td>\n",
              "      <td>0.273166</td>\n",
              "      <td>0.585445</td>\n",
              "      <td>0.743663</td>\n",
              "      <td>...</td>\n",
              "      <td>0</td>\n",
              "      <td>0</td>\n",
              "      <td>0</td>\n",
              "      <td>0</td>\n",
              "      <td>0</td>\n",
              "      <td>0</td>\n",
              "      <td>0</td>\n",
              "      <td>0</td>\n",
              "      <td>0</td>\n",
              "      <td>0</td>\n",
              "    </tr>\n",
              "    <tr>\n",
              "      <th>1</th>\n",
              "      <td>1</td>\n",
              "      <td>0.366667</td>\n",
              "      <td>0.606291</td>\n",
              "      <td>0.05</td>\n",
              "      <td>0.0</td>\n",
              "      <td>0.111209</td>\n",
              "      <td>0.803455</td>\n",
              "      <td>0.106105</td>\n",
              "      <td>0.411754</td>\n",
              "      <td>0.836582</td>\n",
              "      <td>...</td>\n",
              "      <td>1</td>\n",
              "      <td>1</td>\n",
              "      <td>1</td>\n",
              "      <td>1</td>\n",
              "      <td>0</td>\n",
              "      <td>1</td>\n",
              "      <td>0</td>\n",
              "      <td>0</td>\n",
              "      <td>1</td>\n",
              "      <td>0</td>\n",
              "    </tr>\n",
              "    <tr>\n",
              "      <th>2</th>\n",
              "      <td>1</td>\n",
              "      <td>0.033300</td>\n",
              "      <td>0.480124</td>\n",
              "      <td>0.00</td>\n",
              "      <td>0.0</td>\n",
              "      <td>0.209791</td>\n",
              "      <td>0.610350</td>\n",
              "      <td>0.356453</td>\n",
              "      <td>0.517720</td>\n",
              "      <td>0.679051</td>\n",
              "      <td>...</td>\n",
              "      <td>0</td>\n",
              "      <td>0</td>\n",
              "      <td>0</td>\n",
              "      <td>0</td>\n",
              "      <td>0</td>\n",
              "      <td>0</td>\n",
              "      <td>0</td>\n",
              "      <td>0</td>\n",
              "      <td>0</td>\n",
              "      <td>0</td>\n",
              "    </tr>\n",
              "    <tr>\n",
              "      <th>3</th>\n",
              "      <td>1</td>\n",
              "      <td>0.000000</td>\n",
              "      <td>0.538825</td>\n",
              "      <td>0.00</td>\n",
              "      <td>0.5</td>\n",
              "      <td>0.196344</td>\n",
              "      <td>0.724230</td>\n",
              "      <td>0.235606</td>\n",
              "      <td>0.288764</td>\n",
              "      <td>0.805110</td>\n",
              "      <td>...</td>\n",
              "      <td>0</td>\n",
              "      <td>0</td>\n",
              "      <td>0</td>\n",
              "      <td>0</td>\n",
              "      <td>0</td>\n",
              "      <td>0</td>\n",
              "      <td>0</td>\n",
              "      <td>0</td>\n",
              "      <td>0</td>\n",
              "      <td>0</td>\n",
              "    </tr>\n",
              "    <tr>\n",
              "      <th>4</th>\n",
              "      <td>0</td>\n",
              "      <td>0.100000</td>\n",
              "      <td>0.517794</td>\n",
              "      <td>0.00</td>\n",
              "      <td>0.0</td>\n",
              "      <td>0.494734</td>\n",
              "      <td>0.781422</td>\n",
              "      <td>0.154361</td>\n",
              "      <td>0.303809</td>\n",
              "      <td>0.812646</td>\n",
              "      <td>...</td>\n",
              "      <td>0</td>\n",
              "      <td>0</td>\n",
              "      <td>0</td>\n",
              "      <td>0</td>\n",
              "      <td>0</td>\n",
              "      <td>0</td>\n",
              "      <td>0</td>\n",
              "      <td>0</td>\n",
              "      <td>0</td>\n",
              "      <td>0</td>\n",
              "    </tr>\n",
              "  </tbody>\n",
              "</table>\n",
              "<p>5 rows × 1777 columns</p>\n",
              "</div>\n",
              "      <button class=\"colab-df-convert\" onclick=\"convertToInteractive('df-e69b2d40-dda7-4608-b4da-2d91088d419c')\"\n",
              "              title=\"Convert this dataframe to an interactive table.\"\n",
              "              style=\"display:none;\">\n",
              "        \n",
              "  <svg xmlns=\"http://www.w3.org/2000/svg\" height=\"24px\"viewBox=\"0 0 24 24\"\n",
              "       width=\"24px\">\n",
              "    <path d=\"M0 0h24v24H0V0z\" fill=\"none\"/>\n",
              "    <path d=\"M18.56 5.44l.94 2.06.94-2.06 2.06-.94-2.06-.94-.94-2.06-.94 2.06-2.06.94zm-11 1L8.5 8.5l.94-2.06 2.06-.94-2.06-.94L8.5 2.5l-.94 2.06-2.06.94zm10 10l.94 2.06.94-2.06 2.06-.94-2.06-.94-.94-2.06-.94 2.06-2.06.94z\"/><path d=\"M17.41 7.96l-1.37-1.37c-.4-.4-.92-.59-1.43-.59-.52 0-1.04.2-1.43.59L10.3 9.45l-7.72 7.72c-.78.78-.78 2.05 0 2.83L4 21.41c.39.39.9.59 1.41.59.51 0 1.02-.2 1.41-.59l7.78-7.78 2.81-2.81c.8-.78.8-2.07 0-2.86zM5.41 20L4 18.59l7.72-7.72 1.47 1.35L5.41 20z\"/>\n",
              "  </svg>\n",
              "      </button>\n",
              "      \n",
              "  <style>\n",
              "    .colab-df-container {\n",
              "      display:flex;\n",
              "      flex-wrap:wrap;\n",
              "      gap: 12px;\n",
              "    }\n",
              "\n",
              "    .colab-df-convert {\n",
              "      background-color: #E8F0FE;\n",
              "      border: none;\n",
              "      border-radius: 50%;\n",
              "      cursor: pointer;\n",
              "      display: none;\n",
              "      fill: #1967D2;\n",
              "      height: 32px;\n",
              "      padding: 0 0 0 0;\n",
              "      width: 32px;\n",
              "    }\n",
              "\n",
              "    .colab-df-convert:hover {\n",
              "      background-color: #E2EBFA;\n",
              "      box-shadow: 0px 1px 2px rgba(60, 64, 67, 0.3), 0px 1px 3px 1px rgba(60, 64, 67, 0.15);\n",
              "      fill: #174EA6;\n",
              "    }\n",
              "\n",
              "    [theme=dark] .colab-df-convert {\n",
              "      background-color: #3B4455;\n",
              "      fill: #D2E3FC;\n",
              "    }\n",
              "\n",
              "    [theme=dark] .colab-df-convert:hover {\n",
              "      background-color: #434B5C;\n",
              "      box-shadow: 0px 1px 3px 1px rgba(0, 0, 0, 0.15);\n",
              "      filter: drop-shadow(0px 1px 2px rgba(0, 0, 0, 0.3));\n",
              "      fill: #FFFFFF;\n",
              "    }\n",
              "  </style>\n",
              "\n",
              "      <script>\n",
              "        const buttonEl =\n",
              "          document.querySelector('#df-e69b2d40-dda7-4608-b4da-2d91088d419c button.colab-df-convert');\n",
              "        buttonEl.style.display =\n",
              "          google.colab.kernel.accessAllowed ? 'block' : 'none';\n",
              "\n",
              "        async function convertToInteractive(key) {\n",
              "          const element = document.querySelector('#df-e69b2d40-dda7-4608-b4da-2d91088d419c');\n",
              "          const dataTable =\n",
              "            await google.colab.kernel.invokeFunction('convertToInteractive',\n",
              "                                                     [key], {});\n",
              "          if (!dataTable) return;\n",
              "\n",
              "          const docLinkHtml = 'Like what you see? Visit the ' +\n",
              "            '<a target=\"_blank\" href=https://colab.research.google.com/notebooks/data_table.ipynb>data table notebook</a>'\n",
              "            + ' to learn more about interactive tables.';\n",
              "          element.innerHTML = '';\n",
              "          dataTable['output_type'] = 'display_data';\n",
              "          await google.colab.output.renderOutput(dataTable, element);\n",
              "          const docLink = document.createElement('div');\n",
              "          docLink.innerHTML = docLinkHtml;\n",
              "          element.appendChild(docLink);\n",
              "        }\n",
              "      </script>\n",
              "    </div>\n",
              "  </div>\n",
              "  "
            ]
          },
          "metadata": {},
          "execution_count": 39
        }
      ],
      "source": [
        "data=pd.read_csv('/content/drive/MyDrive/_train_sem09 (1).csv')\n",
        "data.head()"
      ]
    },
    {
      "cell_type": "code",
      "execution_count": 40,
      "metadata": {
        "colab": {
          "base_uri": "https://localhost:8080/"
        },
        "id": "ideLzzROz-23",
        "outputId": "25c66986-e84b-47d2-b508-4b967b3bd97c"
      },
      "outputs": [
        {
          "output_type": "execute_result",
          "data": {
            "text/plain": [
              "(3751, 1777)"
            ]
          },
          "metadata": {},
          "execution_count": 40
        }
      ],
      "source": [
        "data.shape"
      ]
    },
    {
      "cell_type": "markdown",
      "metadata": {
        "id": "-63T58Ojt-TF"
      },
      "source": [
        "Данные предварительно закодированы и нормализованы - предобработка не требуется."
      ]
    },
    {
      "cell_type": "markdown",
      "metadata": {
        "id": "STpBxxfvuLtw"
      },
      "source": [
        "Посмотрим на сбалансированность классов"
      ]
    },
    {
      "cell_type": "code",
      "execution_count": 41,
      "metadata": {
        "colab": {
          "base_uri": "https://localhost:8080/",
          "height": 279
        },
        "id": "8Q2677NBskZD",
        "outputId": "48b0b79b-9232-4407-fe40-b479e2f45899"
      },
      "outputs": [
        {
          "output_type": "display_data",
          "data": {
            "text/plain": [
              "<Figure size 432x288 with 1 Axes>"
            ],
            "image/png": "[encoded data removed]"
          },
          "metadata": {
            "needs_background": "light"
          }
        }
      ],
      "source": [
        "sns.countplot(data=data, x='Activity');"
      ]
    },
    {
      "cell_type": "markdown",
      "source": [
        "Выборку можно считать сбалансированной, тем не менее применим взвешивание классов при построении моделей. Также учтем этот небольшой дисбаланс при разбиении на тренировочную и тестовую выборки."
      ],
      "metadata": {
        "id": "PAp8p4y8XshF"
      }
    },
    {
      "cell_type": "markdown",
      "metadata": {
        "id": "ayTFhlWLuR-a"
      },
      "source": [
        "Создаем матрицу наблюдений Х и вектор правильных ответов у. Разделяем набор данных на тренировочную и тестовую выборки"
      ]
    },
    {
      "cell_type": "code",
      "source": [
        "RANDOM_STATE = 42\n",
        "np.random.seed(RANDOM_STATE)"
      ],
      "metadata": {
        "id": "V8MdPsC4X_bs"
      },
      "execution_count": 42,
      "outputs": []
    },
    {
      "cell_type": "code",
      "execution_count": 43,
      "metadata": {
        "id": "gMenGYBOtC09"
      },
      "outputs": [],
      "source": [
        "X, y = data.drop(columns='Activity'), data['Activity']\n",
        "X_train, X_test, y_train, y_test = train_test_split(X, y, test_size=0.25,\n",
        "    stratify=y, random_state=RANDOM_STATE)"
      ]
    },
    {
      "cell_type": "markdown",
      "metadata": {
        "id": "pVbACVrTtVoU"
      },
      "source": [
        "# **2. Логистическая регрессия**\n",
        "\n"
      ]
    },
    {
      "cell_type": "markdown",
      "source": [
        "## **2.1 Базовая модель**"
      ],
      "metadata": {
        "id": "1ezOFp4LZAkk"
      }
    },
    {
      "cell_type": "code",
      "execution_count": 44,
      "metadata": {
        "id": "Udm0rxo1tUzL"
      },
      "outputs": [],
      "source": [
        "# Логистическая регрессия\n",
        "\n",
        "logregr = LogisticRegression(class_weight='balanced', n_jobs=-1,\n",
        "                             random_state=RANDOM_STATE, max_iter=50)\n",
        "logregr.fit(X_train, y_train)\n",
        "y_train_pred = logregr.predict(X_train)\n",
        "y_test_pred = logregr.predict(X_test)"
      ]
    },
    {
      "cell_type": "code",
      "source": [
        "print(f'F1 на тренировочной выборке: {f1_score(y_train, y_train_pred)}')\n",
        "print(f'F1 на тестовой выборке: {f1_score(y_test, y_test_pred)}')"
      ],
      "metadata": {
        "colab": {
          "base_uri": "https://localhost:8080/"
        },
        "id": "rG4twofKYuE4",
        "outputId": "049e04e4-f1cb-4c8c-f7cb-65fe74b56d22"
      },
      "execution_count": 45,
      "outputs": [
        {
          "output_type": "stream",
          "name": "stdout",
          "text": [
            "F1 на тренировочной выборке: 0.8815572418343781\n",
            "F1 на тестовой выборке: 0.7741935483870969\n"
          ]
        }
      ]
    },
    {
      "cell_type": "markdown",
      "metadata": {
        "id": "xFCox-HITZvX"
      },
      "source": [
        "## **2.2 Оптимизация гиперпараметров GridSearchCV**"
      ]
    },
    {
      "cell_type": "code",
      "execution_count": 46,
      "metadata": {
        "colab": {
          "base_uri": "https://localhost:8080/"
        },
        "id": "qeMLqBtxyR78",
        "outputId": "afb1745b-1e7c-411a-856a-7389b35d39f8"
      },
      "outputs": [
        {
          "output_type": "stream",
          "name": "stderr",
          "text": [
            "/usr/local/lib/python3.7/dist-packages/sklearn/linear_model/_logistic.py:818: ConvergenceWarning: lbfgs failed to converge (status=1):\n",
            "STOP: TOTAL NO. of ITERATIONS REACHED LIMIT.\n",
            "\n",
            "Increase the number of iterations (max_iter) or scale the data as shown in:\n",
            "    https://scikit-learn.org/stable/modules/preprocessing.html\n",
            "Please also refer to the documentation for alternative solver options:\n",
            "    https://scikit-learn.org/stable/modules/linear_model.html#logistic-regression\n",
            "  extra_warning_msg=_LOGISTIC_SOLVER_CONVERGENCE_MSG,\n"
          ]
        }
      ],
      "source": [
        "# Сетка гиперпараметров\n",
        "param_grid = [\n",
        "    \n",
        "    {'solver': ['saga'],\n",
        "    'penalty': ['l1', 'l2'],\n",
        "    'C': [0.01, 0.05, 0.1, 0.5, 1.]},\n",
        "                 \n",
        "    {'solver': ['lbfgs'],\n",
        "    'penalty': ['l2'],\n",
        "    'C': [0.01, 0.05, 0.1, 0.5, 1.]},\n",
        "    \n",
        "    {'solver': ['saga'],\n",
        "    'penalty': ['none']},\n",
        "]\n",
        "\n",
        "# Поиск по сетке параметров с кросс-валидацией (5 фолдов)\n",
        "grid_search_lr = GridSearchCV(\n",
        "    estimator=LogisticRegression(class_weight='balanced', \n",
        "        random_state=RANDOM_STATE, max_iter=50\n",
        "    ), \n",
        "    param_grid=param_grid, \n",
        "    scoring = 'f1',\n",
        "    cv=5, \n",
        "    n_jobs = -1\n",
        ")  \n",
        "grid_search_lr.fit(X_train, y_train) \n",
        "y_train_pred = grid_search_lr.predict(X_train)\n",
        "y_test_pred = grid_search_lr.predict(X_test)"
      ]
    },
    {
      "cell_type": "code",
      "source": [
        "print(f'F1 на кросс-валидации: {f1_score(y_train, y_train_pred)}')\n",
        "print(f'F1 на тестовой выборке: {f1_score(y_test, y_test_pred)}')\n",
        "print(f'Наилучшие значения гиперпараметров: {grid_search_lr.best_params_}')"
      ],
      "metadata": {
        "colab": {
          "base_uri": "https://localhost:8080/"
        },
        "id": "S5KnXOQLZn_T",
        "outputId": "1df46680-9b01-497e-fb6d-5d7435dafd76"
      },
      "execution_count": 47,
      "outputs": [
        {
          "output_type": "stream",
          "name": "stdout",
          "text": [
            "F1 на кросс-валидации: 0.8414514547237659\n",
            "F1 на тестовой выборке: 0.7782101167315175\n",
            "Наилучшие значения гиперпараметров: {'C': 0.05, 'penalty': 'l2', 'solver': 'lbfgs'}\n"
          ]
        }
      ]
    },
    {
      "cell_type": "markdown",
      "source": [
        "## **2.3 Оптимизация гиперпараметров RandomizedSearchCV**"
      ],
      "metadata": {
        "id": "MmE7-2hOabY7"
      }
    },
    {
      "cell_type": "code",
      "execution_count": 48,
      "metadata": {
        "colab": {
          "base_uri": "https://localhost:8080/"
        },
        "id": "bk-C7R0NVgML",
        "outputId": "566351ab-a6ef-4f01-e207-07452155e8d4"
      },
      "outputs": [
        {
          "output_type": "stream",
          "name": "stderr",
          "text": [
            "/usr/local/lib/python3.7/dist-packages/sklearn/linear_model/_logistic.py:818: ConvergenceWarning: lbfgs failed to converge (status=1):\n",
            "STOP: TOTAL NO. of ITERATIONS REACHED LIMIT.\n",
            "\n",
            "Increase the number of iterations (max_iter) or scale the data as shown in:\n",
            "    https://scikit-learn.org/stable/modules/preprocessing.html\n",
            "Please also refer to the documentation for alternative solver options:\n",
            "    https://scikit-learn.org/stable/modules/linear_model.html#logistic-regression\n",
            "  extra_warning_msg=_LOGISTIC_SOLVER_CONVERGENCE_MSG,\n"
          ]
        }
      ],
      "source": [
        "# Пространство параметров\n",
        "param_distr = [\n",
        "    \n",
        "    {'solver': ['saga'],\n",
        "    'penalty': ['l1', 'l2'],\n",
        "    'C': uniform(loc=0.01, scale=1)},\n",
        "                 \n",
        "    {'solver': ['lbfgs'],\n",
        "    'penalty': ['l2'],\n",
        "    'C': uniform(loc=0.01, scale=1)},\n",
        "    \n",
        "    {'solver': ['saga'],\n",
        "    'penalty': ['none']},\n",
        "]\n",
        "\n",
        "# Случайный поиск по распределению параметров с кросс-валидацией (5 фолдов)\n",
        "random_search_lr = RandomizedSearchCV(\n",
        "    estimator=LogisticRegression(class_weight='balanced', \n",
        "        random_state=RANDOM_STATE, max_iter=50\n",
        "    ), \n",
        "    param_distributions=param_distr, \n",
        "    scoring = 'f1',\n",
        "    cv=5,\n",
        "    n_iter=20,  # 20 случайных наборов параметров\n",
        "    n_jobs = -1\n",
        ")  \n",
        "random_search_lr.fit(X_train, y_train) \n",
        "y_train_pred = random_search_lr.predict(X_train)\n",
        "y_test_pred = random_search_lr.predict(X_test)"
      ]
    },
    {
      "cell_type": "code",
      "source": [
        "print(f'F1 на кросс-валидации: {f1_score(y_train, y_train_pred)}')\n",
        "print(f'F1 на тестовой выборке: {f1_score(y_test, y_test_pred)}')\n",
        "print(f'Наилучшие значения гиперпараметров: {random_search_lr.best_params_}')"
      ],
      "metadata": {
        "colab": {
          "base_uri": "https://localhost:8080/"
        },
        "id": "7gJXXGeXa_VA",
        "outputId": "30d0af73-0136-4eae-a167-68709793812e"
      },
      "execution_count": 49,
      "outputs": [
        {
          "output_type": "stream",
          "name": "stdout",
          "text": [
            "F1 на кросс-валидации: 0.8466057441253264\n",
            "F1 на тестовой выборке: 0.7793974732750243\n",
            "Наилучшие значения гиперпараметров: {'C': 0.06641157902710025, 'penalty': 'l2', 'solver': 'lbfgs'}\n"
          ]
        }
      ]
    },
    {
      "cell_type": "markdown",
      "source": [
        "## **2.4 Оптимизация гиперпараметров Hyperopt**"
      ],
      "metadata": {
        "id": "1KK9InqQdoa1"
      }
    },
    {
      "cell_type": "code",
      "source": [
        "# Пространство параметров\n",
        "space = hp.choice('parameter_combinations', [\n",
        "        {'solver': 'saga',\n",
        "         'penalty': hp.choice('penalty', ['l1', 'l2']),\n",
        "         'C': hp.uniform('C_saga', 0.01, 1)\n",
        "        },\n",
        "        \n",
        "        {'solver': 'lbfgs',\n",
        "        'penalty': 'l2',\n",
        "        'C': hp.uniform('C_lbfgs', 0.01, 1)\n",
        "        }\n",
        "        ]\n",
        ")\n",
        "\n",
        "\n",
        "# Целевая функция\n",
        "def obj_func(params, cv=5, X=X_train, y=y_train, random_state=RANDOM_STATE):\n",
        "    params = {'solver': params['solver'], \n",
        "              'penalty': params['penalty'], \n",
        "              'C': params['C']\n",
        "             }\n",
        "      \n",
        "    model = LogisticRegression(**params, class_weight='balanced', \n",
        "        random_state=random_state, max_iter=50\n",
        "    )\n",
        "      \n",
        "    # Обучаем модель с помощью кросс-валидации\n",
        "    score = cross_val_score(model, X, y, cv=cv, scoring='f1', n_jobs=-1).mean()\n",
        "\n",
        "    return -score \n",
        "\n",
        "\n",
        "trials = Trials()\n",
        "best=fmin(obj_func, \n",
        "          space=space, \n",
        "          algo=tpe.suggest, \n",
        "          max_evals=20, \n",
        "          trials=trials, \n",
        "          rstate=np.random.RandomState(RANDOM_STATE)\n",
        "          #rstate=np.random.default_rng(RANDOM_STATE)\n",
        "         )"
      ],
      "metadata": {
        "colab": {
          "base_uri": "https://localhost:8080/"
        },
        "id": "t06W-HRldnWC",
        "outputId": "7b7730c9-d5e3-4b26-8fed-481cd451a2ec"
      },
      "execution_count": 50,
      "outputs": [
        {
          "output_type": "stream",
          "name": "stdout",
          "text": [
            "100%|██████████| 20/20 [03:29<00:00, 10.46s/it, best loss: -0.7858802414712622]\n"
          ]
        }
      ]
    },
    {
      "cell_type": "code",
      "source": [
        "print(f'Наилучшие значения гиперпараметров: {best}')"
      ],
      "metadata": {
        "colab": {
          "base_uri": "https://localhost:8080/"
        },
        "id": "KPmZeD7LeRRR",
        "outputId": "52b3b6f7-9b70-4456-e6b9-22f2b0bf4957"
      },
      "execution_count": 51,
      "outputs": [
        {
          "output_type": "stream",
          "name": "stdout",
          "text": [
            "Наилучшие значения гиперпараметров: {'C_saga': 0.023051205281475296, 'parameter_combinations': 0, 'penalty': 1}\n"
          ]
        }
      ]
    },
    {
      "cell_type": "code",
      "source": [
        "# Расчет метрики для лучших найденных гиперпараметров \n",
        "\n",
        "best_params = {'solver': 'saga',\n",
        "          'penalty': 'l2', \n",
        "          'C': 0.10567819922023905\n",
        "}\n",
        "\n",
        "# Модель с лучшими параметрами\n",
        "hyperopt_lr = LogisticRegression(**best_params, class_weight='balanced',\n",
        "                                   random_state=RANDOM_STATE, max_iter=50\n",
        ")\n",
        "hyperopt_lr.fit(X_train, y_train)\n",
        "y_train_pred = hyperopt_lr.predict(X_train)\n",
        "y_test_pred = hyperopt_lr.predict(X_test)"
      ],
      "metadata": {
        "colab": {
          "base_uri": "https://localhost:8080/"
        },
        "id": "EIOMx4U4eVcU",
        "outputId": "3fb57553-5771-458b-d61e-e687374405eb"
      },
      "execution_count": 52,
      "outputs": [
        {
          "output_type": "stream",
          "name": "stderr",
          "text": [
            "/usr/local/lib/python3.7/dist-packages/sklearn/linear_model/_sag.py:354: ConvergenceWarning: The max_iter was reached which means the coef_ did not converge\n",
            "  ConvergenceWarning,\n"
          ]
        }
      ]
    },
    {
      "cell_type": "code",
      "source": [
        "best_score = (np.array(list(x['result']['loss'] \n",
        "                            for x in trials.trials)) * (-1)).max()\n",
        "print(f'F1 на кросс-валидации: {best_score}')\n",
        "print(f'F1 на тренировочной выборке: {f1_score(y_train, y_train_pred)}')\n",
        "print(f'F1 на тестовой выборке: {f1_score(y_test, y_test_pred)}')"
      ],
      "metadata": {
        "colab": {
          "base_uri": "https://localhost:8080/"
        },
        "id": "1Y5fdnjGeXpa",
        "outputId": "37e2c537-6d5c-425c-875d-9102450dd35b"
      },
      "execution_count": 53,
      "outputs": [
        {
          "output_type": "stream",
          "name": "stdout",
          "text": [
            "F1 на кросс-валидации: 0.7858802414712622\n",
            "F1 на тренировочной выборке: 0.8528449967298888\n",
            "F1 на тестовой выборке: 0.78125\n"
          ]
        }
      ]
    },
    {
      "cell_type": "markdown",
      "source": [
        "## **2.5 Оптимизация гиперпараметров Optuna**"
      ],
      "metadata": {
        "id": "UGImdTX6fMoi"
      }
    },
    {
      "cell_type": "code",
      "source": [
        "# Целевая функция\n",
        "def obj_func(trial):\n",
        "    # пространство гиперпараметров\n",
        "    solver = trial.suggest_categorical('solver', ['saga', 'lbfgs'])\n",
        "    if solver == 'saga':\n",
        "        penalty = trial.suggest_categorical('penalty', ['l1', 'l2'])\n",
        "    else:\n",
        "        penalty = 'l2'\n",
        "    C = trial.suggest_uniform('C', 0.01, 1)\n",
        "    \n",
        "    model = LogisticRegression(\n",
        "        solver=solver,\n",
        "        penalty=penalty,\n",
        "        C=C,\n",
        "        class_weight='balanced', \n",
        "        random_state=RANDOM_STATE, \n",
        "        max_iter=50\n",
        "    )    \n",
        "    \n",
        "    # Обучаем модель с помощью кросс-валидации    \n",
        "    score = cross_val_score(\n",
        "        model, X_train, y_train, cv=5, scoring='f1', n_jobs=-1).mean()\n",
        "    \n",
        "    return score\n",
        "\n",
        "\n",
        "# Поиск оптимальных гиперпараметров\n",
        "sampler = optuna.samplers.TPESampler(seed=RANDOM_STATE)\n",
        "study_lr = optuna.create_study(\n",
        "    sampler=sampler, study_name='LogisticRegression', direction='maximize')\n",
        "study_lr.optimize(obj_func, n_trials=20)\n",
        "\n",
        "\n",
        "# Модель с лучшими параметрами\n",
        "optuna_lr = LogisticRegression(\n",
        "    **study_lr.best_params, class_weight='balanced', n_jobs=-1,\n",
        "    random_state=RANDOM_STATE, max_iter=50\n",
        ")\n",
        "optuna_lr.fit(X_train, y_train)\n",
        "y_train_pred = optuna_lr.predict(X_train)\n",
        "y_test_pred = optuna_lr.predict(X_test)"
      ],
      "metadata": {
        "colab": {
          "base_uri": "https://localhost:8080/"
        },
        "id": "V_CETLHNfL-A",
        "outputId": "601a93e6-085a-44e6-d455-c4bc6c180fca"
      },
      "execution_count": 54,
      "outputs": [
        {
          "output_type": "stream",
          "name": "stderr",
          "text": [
            "\u001b[32m[I 2022-08-29 09:56:06,203]\u001b[0m A new study created in memory with name: LogisticRegression\u001b[0m\n",
            "/usr/local/lib/python3.7/dist-packages/ipykernel_launcher.py:9: FutureWarning: suggest_uniform has been deprecated in v3.0.0. This feature will be removed in v6.0.0. See https://github.com/optuna/optuna/releases/tag/v3.0.0. Use :func:`~optuna.trial.Trial.suggest_float` instead.\n",
            "  if __name__ == '__main__':\n",
            "\u001b[32m[I 2022-08-29 09:56:08,174]\u001b[0m Trial 0 finished with value: 0.7720689829369425 and parameters: {'solver': 'lbfgs', 'C': 0.7346740023932911}. Best is trial 0 with value: 0.7720689829369425.\u001b[0m\n",
            "/usr/local/lib/python3.7/dist-packages/ipykernel_launcher.py:9: FutureWarning: suggest_uniform has been deprecated in v3.0.0. This feature will be removed in v6.0.0. See https://github.com/optuna/optuna/releases/tag/v3.0.0. Use :func:`~optuna.trial.Trial.suggest_float` instead.\n",
            "  if __name__ == '__main__':\n",
            "\u001b[32m[I 2022-08-29 09:56:27,267]\u001b[0m Trial 1 finished with value: 0.7850646488868974 and parameters: {'solver': 'saga', 'penalty': 'l1', 'C': 0.8675143843171859}. Best is trial 1 with value: 0.7850646488868974.\u001b[0m\n",
            "/usr/local/lib/python3.7/dist-packages/ipykernel_launcher.py:9: FutureWarning: suggest_uniform has been deprecated in v3.0.0. This feature will be removed in v6.0.0. See https://github.com/optuna/optuna/releases/tag/v3.0.0. Use :func:`~optuna.trial.Trial.suggest_float` instead.\n",
            "  if __name__ == '__main__':\n",
            "\u001b[32m[I 2022-08-29 09:56:29,220]\u001b[0m Trial 2 finished with value: 0.788178619142245 and parameters: {'solver': 'lbfgs', 'C': 0.03037864935284442}. Best is trial 2 with value: 0.788178619142245.\u001b[0m\n",
            "/usr/local/lib/python3.7/dist-packages/ipykernel_launcher.py:9: FutureWarning: suggest_uniform has been deprecated in v3.0.0. This feature will be removed in v6.0.0. See https://github.com/optuna/optuna/releases/tag/v3.0.0. Use :func:`~optuna.trial.Trial.suggest_float` instead.\n",
            "  if __name__ == '__main__':\n",
            "\u001b[32m[I 2022-08-29 09:56:45,491]\u001b[0m Trial 3 finished with value: 0.7860528083483588 and parameters: {'solver': 'saga', 'penalty': 'l1', 'C': 0.1915704647548995}. Best is trial 2 with value: 0.788178619142245.\u001b[0m\n",
            "/usr/local/lib/python3.7/dist-packages/ipykernel_launcher.py:9: FutureWarning: suggest_uniform has been deprecated in v3.0.0. This feature will be removed in v6.0.0. See https://github.com/optuna/optuna/releases/tag/v3.0.0. Use :func:`~optuna.trial.Trial.suggest_float` instead.\n",
            "  if __name__ == '__main__':\n",
            "\u001b[32m[I 2022-08-29 09:56:47,421]\u001b[0m Trial 4 finished with value: 0.7742527350085011 and parameters: {'solver': 'lbfgs', 'C': 0.4376255684556946}. Best is trial 2 with value: 0.788178619142245.\u001b[0m\n",
            "/usr/local/lib/python3.7/dist-packages/ipykernel_launcher.py:9: FutureWarning: suggest_uniform has been deprecated in v3.0.0. This feature will be removed in v6.0.0. See https://github.com/optuna/optuna/releases/tag/v3.0.0. Use :func:`~optuna.trial.Trial.suggest_float` instead.\n",
            "  if __name__ == '__main__':\n",
            "\u001b[32m[I 2022-08-29 09:56:49,336]\u001b[0m Trial 5 finished with value: 0.7824569289784788 and parameters: {'solver': 'lbfgs', 'C': 0.14809892204552141}. Best is trial 2 with value: 0.788178619142245.\u001b[0m\n",
            "/usr/local/lib/python3.7/dist-packages/ipykernel_launcher.py:9: FutureWarning: suggest_uniform has been deprecated in v3.0.0. This feature will be removed in v6.0.0. See https://github.com/optuna/optuna/releases/tag/v3.0.0. Use :func:`~optuna.trial.Trial.suggest_float` instead.\n",
            "  if __name__ == '__main__':\n",
            "\u001b[32m[I 2022-08-29 09:56:51,245]\u001b[0m Trial 6 finished with value: 0.7748432870938778 and parameters: {'solver': 'lbfgs', 'C': 0.46150928437486555}. Best is trial 2 with value: 0.788178619142245.\u001b[0m\n",
            "/usr/local/lib/python3.7/dist-packages/ipykernel_launcher.py:9: FutureWarning: suggest_uniform has been deprecated in v3.0.0. This feature will be removed in v6.0.0. See https://github.com/optuna/optuna/releases/tag/v3.0.0. Use :func:`~optuna.trial.Trial.suggest_float` instead.\n",
            "  if __name__ == '__main__':\n",
            "\u001b[32m[I 2022-08-29 09:57:03,526]\u001b[0m Trial 7 finished with value: 0.7875768650454499 and parameters: {'solver': 'saga', 'penalty': 'l2', 'C': 0.05598590859279775}. Best is trial 2 with value: 0.788178619142245.\u001b[0m\n",
            "/usr/local/lib/python3.7/dist-packages/ipykernel_launcher.py:9: FutureWarning: suggest_uniform has been deprecated in v3.0.0. This feature will be removed in v6.0.0. See https://github.com/optuna/optuna/releases/tag/v3.0.0. Use :func:`~optuna.trial.Trial.suggest_float` instead.\n",
            "  if __name__ == '__main__':\n",
            "\u001b[32m[I 2022-08-29 09:57:15,760]\u001b[0m Trial 8 finished with value: 0.7810471325420734 and parameters: {'solver': 'saga', 'penalty': 'l2', 'C': 0.9659757127438138}. Best is trial 2 with value: 0.788178619142245.\u001b[0m\n",
            "/usr/local/lib/python3.7/dist-packages/ipykernel_launcher.py:9: FutureWarning: suggest_uniform has been deprecated in v3.0.0. This feature will be removed in v6.0.0. See https://github.com/optuna/optuna/releases/tag/v3.0.0. Use :func:`~optuna.trial.Trial.suggest_float` instead.\n",
            "  if __name__ == '__main__':\n",
            "\u001b[32m[I 2022-08-29 09:57:27,956]\u001b[0m Trial 9 finished with value: 0.7808080068502242 and parameters: {'solver': 'saga', 'penalty': 'l2', 'C': 0.44575096880220527}. Best is trial 2 with value: 0.788178619142245.\u001b[0m\n",
            "/usr/local/lib/python3.7/dist-packages/ipykernel_launcher.py:9: FutureWarning: suggest_uniform has been deprecated in v3.0.0. This feature will be removed in v6.0.0. See https://github.com/optuna/optuna/releases/tag/v3.0.0. Use :func:`~optuna.trial.Trial.suggest_float` instead.\n",
            "  if __name__ == '__main__':\n",
            "\u001b[32m[I 2022-08-29 09:57:29,962]\u001b[0m Trial 10 finished with value: 0.7780300167116033 and parameters: {'solver': 'lbfgs', 'C': 0.3184991469483258}. Best is trial 2 with value: 0.788178619142245.\u001b[0m\n",
            "/usr/local/lib/python3.7/dist-packages/ipykernel_launcher.py:9: FutureWarning: suggest_uniform has been deprecated in v3.0.0. This feature will be removed in v6.0.0. See https://github.com/optuna/optuna/releases/tag/v3.0.0. Use :func:`~optuna.trial.Trial.suggest_float` instead.\n",
            "  if __name__ == '__main__':\n",
            "\u001b[32m[I 2022-08-29 09:57:42,241]\u001b[0m Trial 11 finished with value: 0.7816581575374093 and parameters: {'solver': 'saga', 'penalty': 'l2', 'C': 0.018054902436821653}. Best is trial 2 with value: 0.788178619142245.\u001b[0m\n",
            "/usr/local/lib/python3.7/dist-packages/ipykernel_launcher.py:9: FutureWarning: suggest_uniform has been deprecated in v3.0.0. This feature will be removed in v6.0.0. See https://github.com/optuna/optuna/releases/tag/v3.0.0. Use :func:`~optuna.trial.Trial.suggest_float` instead.\n",
            "  if __name__ == '__main__':\n",
            "\u001b[32m[I 2022-08-29 09:57:44,147]\u001b[0m Trial 12 finished with value: 0.7825875877652211 and parameters: {'solver': 'lbfgs', 'C': 0.018397332760612645}. Best is trial 2 with value: 0.788178619142245.\u001b[0m\n",
            "/usr/local/lib/python3.7/dist-packages/ipykernel_launcher.py:9: FutureWarning: suggest_uniform has been deprecated in v3.0.0. This feature will be removed in v6.0.0. See https://github.com/optuna/optuna/releases/tag/v3.0.0. Use :func:`~optuna.trial.Trial.suggest_float` instead.\n",
            "  if __name__ == '__main__':\n",
            "\u001b[32m[I 2022-08-29 09:57:56,413]\u001b[0m Trial 13 finished with value: 0.7814239448598339 and parameters: {'solver': 'saga', 'penalty': 'l2', 'C': 0.21981922574643142}. Best is trial 2 with value: 0.788178619142245.\u001b[0m\n",
            "/usr/local/lib/python3.7/dist-packages/ipykernel_launcher.py:9: FutureWarning: suggest_uniform has been deprecated in v3.0.0. This feature will be removed in v6.0.0. See https://github.com/optuna/optuna/releases/tag/v3.0.0. Use :func:`~optuna.trial.Trial.suggest_float` instead.\n",
            "  if __name__ == '__main__':\n",
            "\u001b[32m[I 2022-08-29 09:58:08,669]\u001b[0m Trial 14 finished with value: 0.7832362878145858 and parameters: {'solver': 'saga', 'penalty': 'l2', 'C': 0.2929957653606481}. Best is trial 2 with value: 0.788178619142245.\u001b[0m\n",
            "/usr/local/lib/python3.7/dist-packages/ipykernel_launcher.py:9: FutureWarning: suggest_uniform has been deprecated in v3.0.0. This feature will be removed in v6.0.0. See https://github.com/optuna/optuna/releases/tag/v3.0.0. Use :func:`~optuna.trial.Trial.suggest_float` instead.\n",
            "  if __name__ == '__main__':\n",
            "\u001b[32m[I 2022-08-29 09:58:10,942]\u001b[0m Trial 15 finished with value: 0.7740436252686177 and parameters: {'solver': 'lbfgs', 'C': 0.6613850125743576}. Best is trial 2 with value: 0.788178619142245.\u001b[0m\n",
            "/usr/local/lib/python3.7/dist-packages/ipykernel_launcher.py:9: FutureWarning: suggest_uniform has been deprecated in v3.0.0. This feature will be removed in v6.0.0. See https://github.com/optuna/optuna/releases/tag/v3.0.0. Use :func:`~optuna.trial.Trial.suggest_float` instead.\n",
            "  if __name__ == '__main__':\n",
            "\u001b[32m[I 2022-08-29 09:58:13,491]\u001b[0m Trial 16 finished with value: 0.7871067770286649 and parameters: {'solver': 'lbfgs', 'C': 0.08348312117812089}. Best is trial 2 with value: 0.788178619142245.\u001b[0m\n",
            "/usr/local/lib/python3.7/dist-packages/ipykernel_launcher.py:9: FutureWarning: suggest_uniform has been deprecated in v3.0.0. This feature will be removed in v6.0.0. See https://github.com/optuna/optuna/releases/tag/v3.0.0. Use :func:`~optuna.trial.Trial.suggest_float` instead.\n",
            "  if __name__ == '__main__':\n",
            "\u001b[32m[I 2022-08-29 09:58:30,334]\u001b[0m Trial 17 finished with value: 0.7826020019416302 and parameters: {'solver': 'saga', 'penalty': 'l1', 'C': 0.2981900177359701}. Best is trial 2 with value: 0.788178619142245.\u001b[0m\n",
            "/usr/local/lib/python3.7/dist-packages/ipykernel_launcher.py:9: FutureWarning: suggest_uniform has been deprecated in v3.0.0. This feature will be removed in v6.0.0. See https://github.com/optuna/optuna/releases/tag/v3.0.0. Use :func:`~optuna.trial.Trial.suggest_float` instead.\n",
            "  if __name__ == '__main__':\n",
            "\u001b[32m[I 2022-08-29 09:58:32,276]\u001b[0m Trial 18 finished with value: 0.7740606676714302 and parameters: {'solver': 'lbfgs', 'C': 0.567704748236273}. Best is trial 2 with value: 0.788178619142245.\u001b[0m\n",
            "/usr/local/lib/python3.7/dist-packages/ipykernel_launcher.py:9: FutureWarning: suggest_uniform has been deprecated in v3.0.0. This feature will be removed in v6.0.0. See https://github.com/optuna/optuna/releases/tag/v3.0.0. Use :func:`~optuna.trial.Trial.suggest_float` instead.\n",
            "  if __name__ == '__main__':\n",
            "\u001b[32m[I 2022-08-29 09:58:44,552]\u001b[0m Trial 19 finished with value: 0.7845361028277695 and parameters: {'solver': 'saga', 'penalty': 'l2', 'C': 0.12220426089405861}. Best is trial 2 with value: 0.788178619142245.\u001b[0m\n"
          ]
        }
      ]
    },
    {
      "cell_type": "code",
      "source": [
        "print(f'Наилучшие значения гиперпараметров: {study_lr.best_params}')\n",
        "print(f'F1 на кросс-валидации: {study_lr.best_value}')\n",
        "print(f'F1 на тренировочной выборке: {f1_score(y_train, y_train_pred)}')\n",
        "print(f'F1 на тестовой выборке: {f1_score(y_test, y_test_pred)}')"
      ],
      "metadata": {
        "colab": {
          "base_uri": "https://localhost:8080/"
        },
        "id": "G0v0Nl0zfnaK",
        "outputId": "9ff7a8b3-f5c6-4620-fc4b-1cbe468affc3"
      },
      "execution_count": 55,
      "outputs": [
        {
          "output_type": "stream",
          "name": "stdout",
          "text": [
            "Наилучшие значения гиперпараметров: {'solver': 'lbfgs', 'C': 0.03037864935284442}\n",
            "F1 на кросс-валидации: 0.788178619142245\n",
            "F1 на тренировочной выборке: 0.8324077098987259\n",
            "F1 на тестовой выборке: 0.7738791423001949\n"
          ]
        }
      ]
    },
    {
      "cell_type": "markdown",
      "source": [
        "# **3. Случайный лес**\n"
      ],
      "metadata": {
        "id": "jHQNAfdlg7ld"
      }
    },
    {
      "cell_type": "markdown",
      "source": [
        "## **3.1 Базовая модель**"
      ],
      "metadata": {
        "id": "3WF2iTJHvhdU"
      }
    },
    {
      "cell_type": "code",
      "source": [
        "rforest = RandomForestClassifier(class_weight='balanced', n_jobs=-1,\n",
        "                                 random_state=RANDOM_STATE)\n",
        "rforest.fit(X_train, y_train)\n",
        "y_train_pred = rforest.predict(X_train)\n",
        "y_test_pred = rforest.predict(X_test)\n",
        "print(f'F1 на тренировочной выборке: {f1_score(y_train, y_train_pred)}')\n",
        "print(f'F1 на тестовой выборке: {f1_score(y_test, y_test_pred)}')"
      ],
      "metadata": {
        "colab": {
          "base_uri": "https://localhost:8080/"
        },
        "id": "536edOP3hQQs",
        "outputId": "6f5f65ee-910c-47e7-85e9-fb477b892ae3"
      },
      "execution_count": 56,
      "outputs": [
        {
          "output_type": "stream",
          "name": "stdout",
          "text": [
            "F1 на тренировочной выборке: 1.0\n",
            "F1 на тестовой выборке: 0.7961538461538461\n"
          ]
        }
      ]
    },
    {
      "cell_type": "markdown",
      "source": [
        "## **3.2 Оптимизация гиперпараметров GridSearchCV**"
      ],
      "metadata": {
        "id": "qFDyagW3hWsO"
      }
    },
    {
      "cell_type": "code",
      "source": [
        "# Сетка параметров\n",
        "param_grid = [\n",
        "    \n",
        "    {'n_estimators': [100, 200, 300],\n",
        "     'criterion': ['gini', 'entropy'],\n",
        "     'max_depth': [5, 10, 50],\n",
        "     'min_samples_leaf': [5, 50]\n",
        "    }\n",
        "]\n",
        "\n",
        "# Поиск по сетке параметров с кросс-валидацией (5 фолдов)\n",
        "grid_search_rf = GridSearchCV(\n",
        "    estimator = RandomForestClassifier(class_weight='balanced', n_jobs=-1,\n",
        "                                 random_state=RANDOM_STATE), \n",
        "    param_grid=param_grid, \n",
        "    scoring = 'f1',\n",
        "    cv=5, \n",
        "    n_jobs = -1\n",
        ")  \n",
        "grid_search_rf.fit(X_train, y_train) \n",
        "y_train_pred = grid_search_rf.predict(X_train)\n",
        "y_test_pred = grid_search_rf.predict(X_test)\n",
        "print(f'F1 на кросс-валидации: {f1_score(y_train, y_train_pred)}')\n",
        "print(f'F1 на тестовой выборке: {f1_score(y_test, y_test_pred)}')\n",
        "print(f'Наилучшие значения гиперпараметров: {grid_search_rf.best_params_}')"
      ],
      "metadata": {
        "colab": {
          "base_uri": "https://localhost:8080/"
        },
        "id": "BQ1sOh6NhU6W",
        "outputId": "92e6548d-2a6e-4edb-f3cb-7d9ea8eb6e93"
      },
      "execution_count": 57,
      "outputs": [
        {
          "output_type": "stream",
          "name": "stdout",
          "text": [
            "F1 на кросс-валидации: 0.9532587228439764\n",
            "F1 на тестовой выборке: 0.7925270403146509\n",
            "Наилучшие значения гиперпараметров: {'criterion': 'entropy', 'max_depth': 50, 'min_samples_leaf': 5, 'n_estimators': 300}\n"
          ]
        }
      ]
    },
    {
      "cell_type": "markdown",
      "source": [
        "## **3.3 Оптимизация гиперпараметров RandomizedSearchCV**"
      ],
      "metadata": {
        "id": "1p0P74YYhrNM"
      }
    },
    {
      "cell_type": "code",
      "source": [
        "# Распределение параметров (в виде неслучайной сетки)\n",
        "param_distr = [\n",
        "    \n",
        "    {'n_estimators': list(range(100, 500, 100)),\n",
        "     'criterion': ['gini', 'entropy'],\n",
        "     'max_depth': list(range(1, 100, 5)),\n",
        "     'min_samples_leaf': list(range(5, 100, 5))\n",
        "    }\n",
        "]\n",
        "\n",
        "# Случайный поиск по распределению параметров с кросс-валидацией (5 фолдов)\n",
        "random_search_rf = RandomizedSearchCV(\n",
        "    estimator = RandomForestClassifier(class_weight='balanced', n_jobs=-1,\n",
        "                                 random_state=RANDOM_STATE),\n",
        "    param_distributions=param_distr, \n",
        "    scoring = 'f1',\n",
        "    cv=5,\n",
        "    n_iter=20, # 20 случайных наборов параметров\n",
        "    n_jobs = -1\n",
        ")  \n",
        "random_search_rf.fit(X_train, y_train) \n",
        "y_train_pred = random_search_rf.predict(X_train)\n",
        "y_test_pred = random_search_rf.predict(X_test)\n",
        "print(f'F1 на кросс-валидации: {f1_score(y_train, y_train_pred)}')\n",
        "print(f'F1 на тестовой выборке: {f1_score(y_test, y_test_pred)}')\n",
        "print(f'Наилучшие значения гиперпараметров: {random_search_rf.best_params_}')"
      ],
      "metadata": {
        "colab": {
          "base_uri": "https://localhost:8080/"
        },
        "id": "W7EEb-rzhxfX",
        "outputId": "066faada-098c-4a63-d5a5-a2b139e2eec2"
      },
      "execution_count": 58,
      "outputs": [
        {
          "output_type": "stream",
          "name": "stdout",
          "text": [
            "F1 на кросс-валидации: 0.9501485638824695\n",
            "F1 на тестовой выборке: 0.7917888563049853\n",
            "Наилучшие значения гиперпараметров: {'n_estimators': 100, 'min_samples_leaf': 5, 'max_depth': 91, 'criterion': 'entropy'}\n"
          ]
        }
      ]
    },
    {
      "cell_type": "markdown",
      "source": [
        "## **3.4 Оптимизация гиперпараметров Hyperopt**"
      ],
      "metadata": {
        "id": "-h5UzwWPhyaa"
      }
    },
    {
      "cell_type": "code",
      "source": [
        "# Пространство параметров \n",
        "space={'n_estimators': hp.quniform('n_estimators', 100, 500, 1),\n",
        "       'criterion': hp.choice('criterion', ['gini', 'entropy']),\n",
        "       'max_depth' : hp.quniform('max_depth', 1, 100, 1),\n",
        "       'min_samples_leaf': hp.quniform('min_samples_leaf', 2, 100, 1)\n",
        "      }\n",
        "\n",
        "\n",
        "# Целевая функция\n",
        "def obj_func(params, cv=5, X=X_train, y=y_train, random_state=RANDOM_STATE):\n",
        "    params = {'n_estimators': int(params['n_estimators']),\n",
        "              'criterion': params['criterion'],\n",
        "              'max_depth': int(params['max_depth']), \n",
        "              'min_samples_leaf': int(params['min_samples_leaf'])\n",
        "             }\n",
        "  \n",
        "    model = RandomForestClassifier(**params, class_weight='balanced', \n",
        "                                   n_jobs=-1, random_state=random_state)\n",
        "    \n",
        "    # Обучаем модель с помощью кросс-валидации    \n",
        "    score = cross_val_score(model, X, y, cv=cv, scoring='f1', n_jobs=-1).mean()\n",
        "    \n",
        "    return -score\n",
        "\n",
        "\n",
        "trials = Trials()\n",
        "best=fmin(obj_func, \n",
        "          space=space, \n",
        "          algo=tpe.suggest, \n",
        "          max_evals=20, \n",
        "          trials=trials, \n",
        "          rstate=np.random.RandomState(RANDOM_STATE)\n",
        "         )\n",
        "print(f'Наилучшие значения гиперпараметров: {best}')"
      ],
      "metadata": {
        "colab": {
          "base_uri": "https://localhost:8080/"
        },
        "id": "wAza5uXQh4Fp",
        "outputId": "317359aa-eec1-4a25-bd1b-aa43ce6ef9fe"
      },
      "execution_count": 59,
      "outputs": [
        {
          "output_type": "stream",
          "name": "stdout",
          "text": [
            "100%|██████████| 20/20 [02:55<00:00,  8.80s/it, best loss: -0.8220957010855259]\n",
            "Наилучшие значения гиперпараметров: {'criterion': 0, 'max_depth': 85.0, 'min_samples_leaf': 3.0, 'n_estimators': 311.0}\n"
          ]
        }
      ]
    },
    {
      "cell_type": "code",
      "source": [
        "# Расчет метрики для лучших найденных гиперпараметров \n",
        "\n",
        "best_score = (np.array(list(x['result']['loss'] \n",
        "                            for x in trials.trials)) * (-1)).max()\n",
        "print(f'F1 на кросс-валидации: {best_score}')\n",
        "\n",
        "best_params = {\n",
        "    'n_estimators': int(best['n_estimators']),\n",
        "    'criterion': 'gini',\n",
        "    'max_depth': int(best['max_depth']),\n",
        "    'min_samples_leaf': int(best['min_samples_leaf'])\n",
        "}\n",
        "\n",
        "# Модель с лучшими параметрами\n",
        "hyperopt_rf = RandomForestClassifier(**best_params, class_weight='balanced',\n",
        "                                 n_jobs=-1, random_state=RANDOM_STATE)\n",
        "hyperopt_rf.fit(X_train, y_train)\n",
        "y_train_pred = hyperopt_rf.predict(X_train)\n",
        "y_test_pred = hyperopt_rf.predict(X_test)\n",
        "print(f'F1 на тренировочной выборке: {f1_score(y_train, y_train_pred)}')\n",
        "print(f'F1 на тестовой выборке: {f1_score(y_test, y_test_pred)}')"
      ],
      "metadata": {
        "colab": {
          "base_uri": "https://localhost:8080/"
        },
        "id": "tVfHdOPf979r",
        "outputId": "eddca3e2-0fe2-48cd-b639-417e08d1ebd6"
      },
      "execution_count": 60,
      "outputs": [
        {
          "output_type": "stream",
          "name": "stdout",
          "text": [
            "F1 на кросс-валидации: 0.8220957010855259\n",
            "F1 на тренировочной выборке: 0.9747458183010823\n",
            "F1 на тестовой выборке: 0.7968901846452867\n"
          ]
        }
      ]
    },
    {
      "cell_type": "markdown",
      "source": [
        "## **3.5 Оптимизация гиперпараметров Optuna**"
      ],
      "metadata": {
        "id": "DiH2BQkph5AX"
      }
    },
    {
      "cell_type": "code",
      "source": [
        "# Целевая функция\n",
        "def obj_func(trial):\n",
        "    # пространство гиперпараметров\n",
        "    n_estimators = trial.suggest_int('n_estimators', 100, 500, 1)\n",
        "    criterion = trial.suggest_categorical('criterion', ['gini', 'entropy'])\n",
        "    max_depth = trial.suggest_int('max_depth', 1, 100, 1)\n",
        "    min_samples_leaf = trial.suggest_int('min_samples_leaf', 2, 100, 1)\n",
        "  \n",
        "    # модель\n",
        "    model = RandomForestClassifier(\n",
        "        n_estimators=n_estimators,\n",
        "        criterion=criterion,\n",
        "        max_depth=max_depth,\n",
        "        min_samples_leaf=min_samples_leaf,\n",
        "        class_weight='balanced', n_jobs=-1,\n",
        "        random_state=RANDOM_STATE\n",
        "    )\n",
        "  \n",
        "    # Обучаем модель с помощью кросс-валидации    \n",
        "    score = cross_val_score(\n",
        "        model, X_train, y_train, cv=5, scoring='f1', n_jobs=-1).mean()\n",
        "    \n",
        "    return score\n",
        "\n",
        "\n",
        "# Поиск оптимальных гиперпараметров\n",
        "sampler = optuna.samplers.TPESampler(seed=RANDOM_STATE)\n",
        "study_rf = optuna.create_study(\n",
        "    sampler=sampler, study_name='RandomForestClassifier', direction='maximize')\n",
        "study_rf.optimize(obj_func, n_trials=20)\n",
        "\n",
        "\n",
        "# Модель с лучшими параметрами  \n",
        "optuna_rf = RandomForestClassifier(\n",
        "    **study_rf.best_params, class_weight='balanced', n_jobs=-1,\n",
        "    random_state=RANDOM_STATE\n",
        ")\n",
        "optuna_rf.fit(X_train, y_train)\n",
        "y_train_pred = optuna_rf.predict(X_train)\n",
        "y_test_pred = optuna_rf.predict(X_test)"
      ],
      "metadata": {
        "colab": {
          "base_uri": "https://localhost:8080/"
        },
        "id": "kEmOA011vRiP",
        "outputId": "442272fc-7f8f-4a16-bc13-7ded332b1539"
      },
      "execution_count": 61,
      "outputs": [
        {
          "output_type": "stream",
          "name": "stderr",
          "text": [
            "\u001b[32m[I 2022-08-29 10:08:10,247]\u001b[0m A new study created in memory with name: RandomForestClassifier\u001b[0m\n",
            "\u001b[32m[I 2022-08-29 10:08:19,446]\u001b[0m Trial 0 finished with value: 0.7831966399562867 and parameters: {'n_estimators': 250, 'criterion': 'gini', 'max_depth': 60, 'min_samples_leaf': 17}. Best is trial 0 with value: 0.7831966399562867.\u001b[0m\n",
            "\u001b[32m[I 2022-08-29 10:08:23,973]\u001b[0m Trial 1 finished with value: 0.731543003621627 and parameters: {'n_estimators': 162, 'criterion': 'entropy', 'max_depth': 61, 'min_samples_leaf': 72}. Best is trial 0 with value: 0.7831966399562867.\u001b[0m\n",
            "\u001b[32m[I 2022-08-29 10:08:27,971]\u001b[0m Trial 2 finished with value: 0.7723552409530227 and parameters: {'n_estimators': 108, 'criterion': 'gini', 'max_depth': 22, 'min_samples_leaf': 20}. Best is trial 0 with value: 0.7831966399562867.\u001b[0m\n",
            "\u001b[32m[I 2022-08-29 10:08:34,153]\u001b[0m Trial 3 finished with value: 0.7658886633515352 and parameters: {'n_estimators': 173, 'criterion': 'entropy', 'max_depth': 44, 'min_samples_leaf': 30}. Best is trial 0 with value: 0.7831966399562867.\u001b[0m\n",
            "\u001b[32m[I 2022-08-29 10:08:43,996]\u001b[0m Trial 4 finished with value: 0.7530892563184566 and parameters: {'n_estimators': 345, 'criterion': 'entropy', 'max_depth': 37, 'min_samples_leaf': 47}. Best is trial 0 with value: 0.7831966399562867.\u001b[0m\n",
            "\u001b[32m[I 2022-08-29 10:09:05,309]\u001b[0m Trial 5 finished with value: 0.8140803903493727 and parameters: {'n_estimators': 414, 'criterion': 'entropy', 'max_depth': 60, 'min_samples_leaf': 6}. Best is trial 5 with value: 0.8140803903493727.\u001b[0m\n",
            "\u001b[32m[I 2022-08-29 10:09:12,102]\u001b[0m Trial 6 finished with value: 0.7227115004180222 and parameters: {'n_estimators': 343, 'criterion': 'gini', 'max_depth': 95, 'min_samples_leaf': 97}. Best is trial 5 with value: 0.8140803903493727.\u001b[0m\n",
            "\u001b[32m[I 2022-08-29 10:09:22,330]\u001b[0m Trial 7 finished with value: 0.7524643917093641 and parameters: {'n_estimators': 424, 'criterion': 'gini', 'max_depth': 69, 'min_samples_leaf': 45}. Best is trial 5 with value: 0.8140803903493727.\u001b[0m\n",
            "\u001b[32m[I 2022-08-29 10:09:26,862]\u001b[0m Trial 8 finished with value: 0.7633622195308107 and parameters: {'n_estimators': 148, 'criterion': 'gini', 'max_depth': 91, 'min_samples_leaf': 27}. Best is trial 5 with value: 0.8140803903493727.\u001b[0m\n",
            "\u001b[32m[I 2022-08-29 10:09:39,891]\u001b[0m Trial 9 finished with value: 0.7744547263483635 and parameters: {'n_estimators': 365, 'criterion': 'entropy', 'max_depth': 55, 'min_samples_leaf': 20}. Best is trial 5 with value: 0.8140803903493727.\u001b[0m\n",
            "\u001b[32m[I 2022-08-29 10:09:46,098]\u001b[0m Trial 10 finished with value: 0.7023063677362387 and parameters: {'n_estimators': 490, 'criterion': 'entropy', 'max_depth': 1, 'min_samples_leaf': 3}. Best is trial 5 with value: 0.8140803903493727.\u001b[0m\n",
            "\u001b[32m[I 2022-08-29 10:09:57,880]\u001b[0m Trial 11 finished with value: 0.8209361721872475 and parameters: {'n_estimators': 249, 'criterion': 'gini', 'max_depth': 75, 'min_samples_leaf': 3}. Best is trial 11 with value: 0.8209361721872475.\u001b[0m\n",
            "\u001b[32m[I 2022-08-29 10:10:12,015]\u001b[0m Trial 12 finished with value: 0.8196391111094297 and parameters: {'n_estimators': 245, 'criterion': 'gini', 'max_depth': 78, 'min_samples_leaf': 2}. Best is trial 11 with value: 0.8209361721872475.\u001b[0m\n",
            "\u001b[32m[I 2022-08-29 10:10:17,768]\u001b[0m Trial 13 finished with value: 0.7349157425419256 and parameters: {'n_estimators': 253, 'criterion': 'gini', 'max_depth': 81, 'min_samples_leaf': 63}. Best is trial 11 with value: 0.8209361721872475.\u001b[0m\n",
            "\u001b[32m[I 2022-08-29 10:10:30,223]\u001b[0m Trial 14 finished with value: 0.8196391111094297 and parameters: {'n_estimators': 245, 'criterion': 'gini', 'max_depth': 77, 'min_samples_leaf': 2}. Best is trial 11 with value: 0.8209361721872475.\u001b[0m\n",
            "\u001b[32m[I 2022-08-29 10:10:36,246]\u001b[0m Trial 15 finished with value: 0.7595794796221889 and parameters: {'n_estimators': 221, 'criterion': 'gini', 'max_depth': 100, 'min_samples_leaf': 36}. Best is trial 11 with value: 0.8209361721872475.\u001b[0m\n",
            "\u001b[32m[I 2022-08-29 10:10:42,982]\u001b[0m Trial 16 finished with value: 0.7335860983290636 and parameters: {'n_estimators': 300, 'criterion': 'gini', 'max_depth': 80, 'min_samples_leaf': 65}. Best is trial 11 with value: 0.8209361721872475.\u001b[0m\n",
            "\u001b[32m[I 2022-08-29 10:10:53,634]\u001b[0m Trial 17 finished with value: 0.7894355422415937 and parameters: {'n_estimators': 306, 'criterion': 'gini', 'max_depth': 73, 'min_samples_leaf': 13}. Best is trial 11 with value: 0.8209361721872475.\u001b[0m\n",
            "\u001b[32m[I 2022-08-29 10:10:59,155]\u001b[0m Trial 18 finished with value: 0.7571315701586963 and parameters: {'n_estimators': 200, 'criterion': 'gini', 'max_depth': 87, 'min_samples_leaf': 34}. Best is trial 11 with value: 0.8209361721872475.\u001b[0m\n",
            "\u001b[32m[I 2022-08-29 10:11:01,828]\u001b[0m Trial 19 finished with value: 0.7250843962675751 and parameters: {'n_estimators': 105, 'criterion': 'gini', 'max_depth': 32, 'min_samples_leaf': 89}. Best is trial 11 with value: 0.8209361721872475.\u001b[0m\n"
          ]
        }
      ]
    },
    {
      "cell_type": "code",
      "source": [
        "print(f'Наилучшие значения гиперпараметров: {study_rf.best_params}')\n",
        "print(f'F1 на кросс-валидации: {study_rf.best_value}')\n",
        "print(f'F1 на тренировочной выборке: {f1_score(y_train, y_train_pred)}')\n",
        "print(f'F1 на тестовой выборке: {f1_score(y_test, y_test_pred)}')"
      ],
      "metadata": {
        "colab": {
          "base_uri": "https://localhost:8080/"
        },
        "id": "W9FJuqSyvVA7",
        "outputId": "d2a73d3c-6838-4b03-e4ae-480b6d91a722"
      },
      "execution_count": 62,
      "outputs": [
        {
          "output_type": "stream",
          "name": "stdout",
          "text": [
            "Наилучшие значения гиперпараметров: {'n_estimators': 249, 'criterion': 'gini', 'max_depth': 75, 'min_samples_leaf': 3}\n",
            "F1 на кросс-валидации: 0.8209361721872475\n",
            "F1 на тренировочной выборке: 0.9747789059941041\n",
            "F1 на тестовой выборке: 0.7988338192419825\n"
          ]
        }
      ]
    }
  ],
  "metadata": {
    "colab": {
      "name": "Homework_04_ML-7.ipynb",
      "provenance": [],
      "collapsed_sections": [],
      "toc_visible": true,
      "mount_file_id": "1rkGKOokhRstFQ6Cee4XgrsMOHlWzNaze",
      "authorship_tag": "ABX9TyP9ikQQgmjYyCAmyJwNiT5F",
      "include_colab_link": true
    },
    "kernelspec": {
      "display_name": "Python 3",
      "name": "python3"
    },
    "language_info": {
      "name": "python"
    }
  },
  "nbformat": 4,
  "nbformat_minor": 0
}